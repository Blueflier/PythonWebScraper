{
 "cells": [
  {
   "cell_type": "code",
   "execution_count": 29,
   "id": "2dce7dbf",
   "metadata": {},
   "outputs": [
    {
     "name": "stdout",
     "output_type": "stream",
     "text": [
      "[]\n",
      "[]\n",
      "[]\n",
      "[]\n",
      "[]\n",
      "[]\n"
     ]
    }
   ],
   "source": [
    "import requests\n",
    "from bs4 import BeautifulSoup\n",
    "\n",
    "URL = \"https://cafebiola.cafebonappetit.com/cafe/cafe-biola/2023-07-14/\"\n",
    "page = requests.get(URL)\n",
    "\n",
    "soup = BeautifulSoup(page.content, \"html.parser\")\n",
    "\n",
    "# results = soup.find(id=\"main-content\")\n",
    "# job_elements = results.find_all(\"h3\", class_=\"site-panel__daypart-station-title\")\n",
    "\n",
    "#breakfast lunch dinner\n",
    "meals = soup.find_all(\"h2\", class_=\"panel__title\")\n",
    "\n",
    "#print(meals) #this works\n",
    "\n",
    "for meal in meals:\n",
    "    #print(meal.text, end=\"\\n\"*2) #this works\n",
    "    stations = meal.find_all(\"h3\", class_=\"site-panel__daypart-station-title\")\n",
    "    print(stations)\n",
    "#     for station in stations:\n",
    "#         print(station.text)"
   ]
  },
  {
   "cell_type": "code",
   "execution_count": 16,
   "id": "d057ea15",
   "metadata": {},
   "outputs": [
    {
     "name": "stdout",
     "output_type": "stream",
     "text": [
      "[]\n"
     ]
    }
   ],
   "source": [
    "print(job_elements)\n"
   ]
  },
  {
   "cell_type": "code",
   "execution_count": null,
   "id": "e5d4fc5d",
   "metadata": {},
   "outputs": [],
   "source": [
    "mustard fried\n",
    "grilled onions\n",
    "raw onion\n",
    "extra lettuce\n",
    "chopped chilies\n",
    "toasted buns"
   ]
  }
 ],
 "metadata": {
  "kernelspec": {
   "display_name": "Python 3 (ipykernel)",
   "language": "python",
   "name": "python3"
  },
  "language_info": {
   "codemirror_mode": {
    "name": "ipython",
    "version": 3
   },
   "file_extension": ".py",
   "mimetype": "text/x-python",
   "name": "python",
   "nbconvert_exporter": "python",
   "pygments_lexer": "ipython3",
   "version": "3.8.12"
  }
 },
 "nbformat": 4,
 "nbformat_minor": 5
}
